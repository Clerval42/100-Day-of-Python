{
 "cells": [
  {
   "cell_type": "markdown",
   "metadata": {},
   "source": [
    "<h1 style=\"text-align: center;\">   Day 2 </h1>\n",
    "\n",
    "*Today's goals:* datatypes, numbers, operations, type conversion, f-strings, and a whole lot more\n",
    "***"
   ]
  },
  {
   "cell_type": "markdown",
   "metadata": {},
   "source": [
    "### Day 2.19\n",
    ">#### <span style=\"color:#C66565\">Function</span>\n",
    ">> *Data Types*\n",
    ">>> String, integer, float, boolean...\n"
   ]
  },
  {
   "cell_type": "code",
   "execution_count": null,
   "metadata": {},
   "outputs": [],
   "source": [
    "#String\n",
    "print(\"Hello\"[2])\n",
    "print(\"123\" + \"456\")\n",
    "\n",
    "#Integer\n",
    "print(123 + 456)\n",
    "\n",
    "#Float\n",
    "3.14568\n",
    "\n",
    "#Boolean\n",
    "True\n",
    "False"
   ]
  },
  {
   "cell_type": "markdown",
   "metadata": {},
   "source": [
    "***\n",
    "### Day 2.21\n",
    "#### <span style=\"color:#65CA8A\">Data Types Exercise</span>\n",
    "Write a program that adds the digits in a 2 digit number. e.g. if the input was 35, then the output should be 3 + 5 = 8"
   ]
  },
  {
   "cell_type": "code",
   "execution_count": null,
   "metadata": {},
   "outputs": [],
   "source": [
    "# 🚨 Don't change the code below 👇\n",
    "two_digit_number = input(\"Type a two digit number: \")\n",
    "# 🚨 Don't change the code above 👆\n",
    "\n",
    "####################################\n",
    "#Write your code below this line 👇\n",
    "first_digit = int(two_digit_number[0])\n",
    "second_digit = int(two_digit_number[1])\n",
    "\n",
    "print(first_digit + second_digit)"
   ]
  },
  {
   "cell_type": "markdown",
   "metadata": {},
   "source": [
    "***\n",
    "### Day 2.22\n",
    ">#### <span style=\"color:#C66565\">Function</span>\n",
    ">>Basic Mathematical Operators and Operations\n",
    "\n",
    "\"+ ->  Addition\"\n",
    "\n",
    "\"- ->  Subtraction\"\n",
    "\n",
    "\"/ ->  Division\"  (division prints float type)\n",
    "\n",
    "\"* ->  Multiplication\"\n",
    "\n",
    "\"** -> Exponent\"\n",
    "\n",
    "\"% ->  Modulo\"\n"
   ]
  },
  {
   "cell_type": "code",
   "execution_count": null,
   "metadata": {},
   "outputs": [],
   "source": [
    "print(type(6/3))"
   ]
  },
  {
   "cell_type": "code",
   "execution_count": null,
   "metadata": {},
   "outputs": [],
   "source": [
    "score = 0\n",
    "score += 1\n",
    "print(score)"
   ]
  },
  {
   "cell_type": "markdown",
   "metadata": {},
   "source": [
    "***\n",
    "### Day 2.23\n",
    "#### <span style=\"color:#65CA8A\">BMI Calculator</span>\n",
    "Write a program that calculates the Body Mass Index (BMI) from a user's weight and height."
   ]
  },
  {
   "cell_type": "code",
   "execution_count": null,
   "metadata": {},
   "outputs": [],
   "source": [
    "# 🚨 Don't change the code below 👇\n",
    "height = input(\"enter your height in m: \")\n",
    "weight = input(\"enter your weight in kg: \")\n",
    "# 🚨 Don't change the code above 👆\n",
    "\n",
    "#Write your code below this line 👇\n",
    "square_height = float(height)**2\n",
    "BMI = int(weight) / square_height\n",
    "print(int(BMI))"
   ]
  },
  {
   "cell_type": "markdown",
   "metadata": {},
   "source": [
    "***\n",
    "### Day 2.24\n",
    "> #### <span style=\"color:#C66565\">Function</span>\n",
    ">> `round()`\n",
    "\n",
    "It will return you a float number that will be rounded to the decimal places which are given as input. If the decimal places to be rounded are not specified, it is considered as 0, and it will round to the nearest integer.\n",
    "\n"
   ]
  },
  {
   "cell_type": "code",
   "execution_count": null,
   "metadata": {},
   "outputs": [],
   "source": [
    "print(8/3)\n",
    "print(round(8/3))\n",
    "print(round(8/3, 2))\n",
    "print(8 // 3)"
   ]
  },
  {
   "cell_type": "markdown",
   "metadata": {},
   "source": [
    "***\n",
    "### Day 2.24\n",
    "> #### <span style=\"color:#C66565\">Function</span>\n",
    ">> F String\n",
    "\n",
    "\n",
    "\n"
   ]
  },
  {
   "cell_type": "code",
   "execution_count": 20,
   "metadata": {},
   "outputs": [
    {
     "name": "stdout",
     "output_type": "stream",
     "text": [
      "Your age is 40, your score is 18.56, your winning is False\n"
     ]
    }
   ],
   "source": [
    "age = 40\n",
    "score = 18.56\n",
    "isWinning = False\n",
    "print(f\"Your age is {age}, your score is {score}, your winning is {isWinning}\")"
   ]
  },
  {
   "cell_type": "markdown",
   "metadata": {},
   "source": [
    "***\n",
    "### Day 2.25\n",
    "#### <span style=\"color:#65CA8A\">Life in Weeks</span>\n",
    "Create a program using maths and f-Strings that tells us how many days, weeks, months we have left if we live until 90 years old."
   ]
  },
  {
   "cell_type": "code",
   "execution_count": null,
   "metadata": {},
   "outputs": [],
   "source": [
    "# 🚨 Don't change the code below 👇\n",
    "age = input(\"What is your current age? \")\n",
    "# 🚨 Don't change the code above 👆\n",
    "\n",
    "#Write your code below this line 👇\n",
    "\n",
    "left_life = 90 - int(age)\n",
    "days = 365 * left_life\n",
    "weeks = 52 * left_life\n",
    "months = 12 * left_life\n",
    "print(f\"You have {days} days, {weeks} weeks, and {months} months left.\")"
   ]
  },
  {
   "cell_type": "markdown",
   "metadata": {},
   "source": [
    "***\n",
    "### Day 2 *Project*: <span style=\"color:#86D4DD\">Tip Calculator"
   ]
  },
  {
   "cell_type": "code",
   "execution_count": null,
   "metadata": {},
   "outputs": [],
   "source": [
    "#If the bill was $150.00, split between 5 people, with 12% tip. \n",
    "#Each person should pay (150.00 / 5) * 1.12 = 33.6\n",
    "#Round the result to 2 decimal places.\n",
    "print(\"Welcome to the tip calculator!\")\n",
    "bill = float(input(\"What was the total bill? $\"))\n",
    "tip = int(input(\"How much tip would you like to give? 10, 12, or 15? \"))\n",
    "people = int(input(\"How many people to split the bill?\"))\n",
    "\n",
    "tip_as_percent = tip / 100\n",
    "total_tip_amount = bill * tip_as_percent\n",
    "total_bill = bill + total_tip_amount\n",
    "bill_per_person = total_bill / people\n",
    "final_amount = round(bill_per_person, 2)\n",
    "\n",
    "print(f\"Each person should pay: ${final_amount}\")"
   ]
  }
 ],
 "metadata": {
  "kernelspec": {
   "display_name": "Python 3",
   "language": "python",
   "name": "python3"
  },
  "language_info": {
   "codemirror_mode": {
    "name": "ipython",
    "version": 3
   },
   "file_extension": ".py",
   "mimetype": "text/x-python",
   "name": "python",
   "nbconvert_exporter": "python",
   "pygments_lexer": "ipython3",
   "version": "3.11.5"
  },
  "orig_nbformat": 4
 },
 "nbformat": 4,
 "nbformat_minor": 2
}
