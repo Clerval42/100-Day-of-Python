{
 "cells": [
  {
   "cell_type": "markdown",
   "metadata": {},
   "source": [
    "<h1 style=\"text-align: center;\">   Day 3 </h1>\n",
    "\n",
    "* Today's goals: * conditional statements, if, else, else if, logical operators, code blocks, scope, global and local name spacing and a whole lot more.\n",
    "\n",
    "***"
   ]
  },
  {
   "cell_type": "markdown",
   "metadata": {},
   "source": [
    "### Day 3.29\n",
    ">#### <span style=\"color:#C66565\">Function</span>\n",
    ">> *Conditional Operators*\n",
    ">>> if, else\n"
   ]
  },
  {
   "cell_type": "code",
   "execution_count": null,
   "metadata": {},
   "outputs": [],
   "source": [
    "#if condition:\n",
    "#   true then do this\n",
    "#else:\n",
    "#   false then do this"
   ]
  },
  {
   "cell_type": "code",
   "execution_count": 7,
   "metadata": {},
   "outputs": [
    {
     "name": "stdout",
     "output_type": "stream",
     "text": [
      "Welcome to the rollercoaster!\n",
      "you can't ride rc :( \n"
     ]
    }
   ],
   "source": [
    "print(\"Welcome to the rollercoaster!\")\n",
    "height = int(input(\"What is your height in cm?\"))\n",
    "if height > 120:\n",
    "    print(\"you can ride!\")\n",
    "else:\n",
    "    print(\"you can't ride rc :( \")"
   ]
  },
  {
   "cell_type": "markdown",
   "metadata": {},
   "source": [
    "## Comparison Operators\n",
    "| Operator | Meaning |\n",
    "|:----------:|:--------:|\n",
    "|>|Greater than|\n",
    "|<|Less than|\n",
    "|>=|Greater than and Equal|\n",
    "|<=|Less than and Equal|\n",
    "|==|Equal to|\n",
    "|!=|NOT Equal to|\n",
    "\n"
   ]
  },
  {
   "cell_type": "markdown",
   "metadata": {},
   "source": [
    "Note: the = means assignment. You assign a variable\n",
    "\n",
    "the == means check equality. "
   ]
  },
  {
   "cell_type": "markdown",
   "metadata": {},
   "source": [
    "***\n",
    "### Day 3.30\n",
    "#### <span style=\"color:#65CA8A\">Odd or Even Tester Exercise</span>\n",
    "Write a program that works out whether if a given number is an odd or even number.\n",
    "\n",
    "Note: Modulo gives the remainder after a division."
   ]
  },
  {
   "cell_type": "code",
   "execution_count": null,
   "metadata": {},
   "outputs": [],
   "source": [
    "# 🚨 Don't change the code below 👇\n",
    "number = int(input(\"Which number do you want to check? \"))\n",
    "# 🚨 Don't change the code above 👆\n",
    "\n",
    "#Write your code below this line 👇\n",
    "\n",
    "if number % 2 == 0:\n",
    "    print(\"This is an even number.\")\n",
    "else:\n",
    "    print(\"This is an odd number.\")"
   ]
  },
  {
   "cell_type": "markdown",
   "metadata": {},
   "source": [
    "***\n",
    "### Day 3.31\n",
    ">#### <span style=\"color:#C66565\">Function</span>\n",
    ">> *Conditional Operators*\n",
    ">>> nested if/else and elif\n"
   ]
  },
  {
   "cell_type": "code",
   "execution_count": null,
   "metadata": {},
   "outputs": [],
   "source": [
    "# if condition:\n",
    "#     if another condition:\n",
    "#         true then do this\n",
    "#     else:\n",
    "#         false then do this\n",
    "# else:\n",
    "#     if above conditions false then do this"
   ]
  },
  {
   "cell_type": "code",
   "execution_count": 8,
   "metadata": {},
   "outputs": [
    {
     "name": "stdout",
     "output_type": "stream",
     "text": [
      "Welcome to the rollercoaster!\n",
      "you can ride!\n",
      "please pay 7$\n"
     ]
    }
   ],
   "source": [
    "print(\"Welcome to the rollercoaster!\")\n",
    "height = int(input(\"What is your height in cm?\"))\n",
    "if height > 120:\n",
    "    print(\"you can ride!\")\n",
    "    aaaage =int(input(\"how old are you?\"))\n",
    "    if aaaage <= 12:\n",
    "        print(\"please pay 2$\")\n",
    "    elif aaaage <= 18:\n",
    "        print(\"please pay 5$\")\n",
    "    else:\n",
    "        print(\"please pay 7$\")\n",
    "else:\n",
    "    print(\"you can't ride rc :( \")"
   ]
  },
  {
   "cell_type": "markdown",
   "metadata": {},
   "source": [
    "***\n",
    "### Day 3.32\n",
    "#### <span style=\"color:#65CA8A\">BMI Calculator v2</span>\n",
    "Write a program that interprets the Body Mass Index (BMI) based on a user's weight and height.\n",
    "\n",
    "It should tell them the interpretation of their BMI based on the BMI value.\n",
    "\n",
    "+ Under 18.5 they are underweight\n",
    "+ Over 18.5 but below 25 they have a normal weight\n",
    "+ Over 25 but below 30 they are slightly overweight\n",
    "+ Over 30 but below 35 they are obese\n",
    "+ Above 35 they are clinically obese.\n"
   ]
  },
  {
   "cell_type": "code",
   "execution_count": null,
   "metadata": {},
   "outputs": [],
   "source": [
    "# 🚨 Don't change the code below 👇\n",
    "height = float(input(\"enter your height in m: \"))\n",
    "weight = float(input(\"enter your weight in kg: \"))\n",
    "# 🚨 Don't change the code above 👆\n",
    "\n",
    "#Write your code below this line 👇\n",
    "bmi = round(weight / (height**2))\n",
    "\n",
    "if bmi < 18.5:\n",
    "   print(f\"Your BMI is {bmi}, you are underweight.\")\n",
    "elif bmi<25:\n",
    "    print(f\"Your BMI is {bmi}, you have a normal weight.\")\n",
    "elif bmi<30:\n",
    "    print(f\"Your BMI is {bmi}, you are slightly overweight.\")\n",
    "elif bmi<35:\n",
    "    print(f\"Your BMI is {bmi}, you are slightly obese.\")\n",
    "else:\n",
    "    print(f\"Your BMI is {bmi}, you are clinically obese.\")"
   ]
  },
  {
   "cell_type": "markdown",
   "metadata": {},
   "source": [
    "***\n",
    "### Day 3.33\n",
    "#### <span style=\"color:#65CA8A\">Leap Year</span>\n",
    "Write a program that works out whether if a given year is a leap year. A normal year has 365 days, leap years have 366, with an extra day in February."
   ]
  },
  {
   "cell_type": "code",
   "execution_count": null,
   "metadata": {},
   "outputs": [],
   "source": [
    "# 🚨 Don't change the code below 👇\n",
    "year = int(input(\"Which year do you want to check? \"))\n",
    "# 🚨 Don't change the code above 👆\n",
    "\n",
    "#Write your code below this line 👇\n",
    "\n",
    "if year % 4 ==0:\n",
    "    if year % 100 == 0:\n",
    "        if year % 400 ==0:\n",
    "            print(\"Leap year.\")\n",
    "        else:\n",
    "            print(\"Not leap year.\")\n",
    "    else:\n",
    "        print(\"Leap year.\")\n",
    "else:\n",
    "    print(\"Not leap year.\")"
   ]
  },
  {
   "cell_type": "markdown",
   "metadata": {},
   "source": [
    "***\n",
    "### Day 3.31\n",
    ">#### <span style=\"color:#C66565\">Function</span>\n",
    ">> *Conditional Operators*\n",
    ">>> if/ elif/ else and multiple if\n"
   ]
  },
  {
   "cell_type": "code",
   "execution_count": null,
   "metadata": {},
   "outputs": [],
   "source": [
    "# if condition1:\n",
    "#   do A\n",
    "# elif condition2:\n",
    "#   do B\n",
    "# else:\n",
    "#   do C \n",
    "# OUTPUT: single outcome\n",
    "# \n",
    "# \n",
    "# if condition1:\n",
    "#   do A\n",
    "# if condition2:\n",
    "#   do B\n",
    "# if condition3:\n",
    "#   do C\n",
    "# OUTPUT: multiple outcome"
   ]
  },
  {
   "cell_type": "code",
   "execution_count": null,
   "metadata": {},
   "outputs": [],
   "source": [
    "print(\"Welcome to the rollercoaster!\")\n",
    "height = int(input(\"What is your height in cm? \"))\n",
    "bill = 0\n",
    "\n",
    "if height >= 120:\n",
    "  print(\"You can ride the rollercoaster!\")\n",
    "  age = int(input(\"What is your age? \"))\n",
    "  if age < 12:\n",
    "    bill = 5\n",
    "    print(\"Child tickets are $5.\")\n",
    "  elif age <= 18:\n",
    "    bill = 7\n",
    "    print(\"Youth tickets are $7.\")\n",
    "  else:\n",
    "    bill = 12\n",
    "    print(\"Adult tickets are $12.\")\n",
    "  \n",
    "  wants_photo = input(\"Do you want a photo taken? Y or N. \")\n",
    "  if wants_photo == \"Y\":\n",
    "    bill += 3\n",
    "  \n",
    "  print(f\"Your final bill is ${bill}\")\n",
    "\n",
    "else:\n",
    "  print(\"Sorry, you have to grow taller before you can ride.\")\n"
   ]
  },
  {
   "cell_type": "markdown",
   "metadata": {},
   "source": [
    "***\n",
    "### Day 3.35\n",
    "#### <span style=\"color:#65CA8A\">Pizza Order Practice</span>\n",
    "Congratulations, you've got a job at Python Pizza. Your first job is to build an automatic pizza order program.\n",
    "\n",
    "Based on a user's order, work out their final bill.\n",
    "\n",
    "Small Pizza: $15\n",
    "\n",
    "Medium Pizza: $20\n",
    "\n",
    "Large Pizza: $25\n",
    "\n",
    "Pepperoni for Small Pizza: +$2\n",
    "\n",
    "Pepperoni for Medium or Large Pizza: +$3\n",
    "\n",
    "Extra cheese for any size pizza: + $1\n",
    "\n"
   ]
  },
  {
   "cell_type": "code",
   "execution_count": null,
   "metadata": {},
   "outputs": [],
   "source": [
    "# 🚨 Don't change the code below 👇\n",
    "print(\"Welcome to Python Pizza Deliveries!\")\n",
    "size = input(\"What size pizza do you want? S, M, or L \")\n",
    "add_pepperoni = input(\"Do you want pepperoni? Y or N \")\n",
    "extra_cheese = input(\"Do you want extra cheese? Y or N \")\n",
    "# 🚨 Don't change the code above 👆\n",
    "\n",
    "#Write your code below this line 👇\n",
    "bill = 0\n",
    "\n",
    "if size == \"S\":\n",
    "    bill += 15\n",
    "elif size == \"M\":\n",
    "    bill +=20\n",
    "elif size ==\"L\":\n",
    "    bill += 25 \n",
    "else:\n",
    "    print(\"ERROR\")\n",
    "\n",
    "if add_pepperoni == \"Y\":\n",
    "    if size == \"S\":\n",
    "        bill +=2\n",
    "    elif size == \"M\" :\n",
    "        bill +=3\n",
    "    elif size == \"L\" :\n",
    "        bill +=3\n",
    "\n",
    "if extra_cheese == \"Y\":\n",
    "    bill +=1\n",
    "\n",
    "print(f\"Your final bill is: ${bill}.\")"
   ]
  },
  {
   "cell_type": "markdown",
   "metadata": {},
   "source": [
    "***\n",
    "### Day 3.36\n",
    ">#### <span style=\"color:#C66565\">Function</span>\n",
    ">> *Logical Operators*\n",
    ">>> and, or, not\n"
   ]
  },
  {
   "cell_type": "markdown",
   "metadata": {},
   "source": [
    "|A|B|A and B|A or B|not(A)|not(B)|\n",
    "|:-----:|:-----:|:-----:|:-----:|:-----:|:-----:|\n",
    "|<span style=\"color:#4db857\">True</span>|<span style=\"color:#4db857\">True</span>|<span style=\"color:#4db857\">True</span>|<span style=\"color:#4db857\">True</span>|<span style=\"color:#CF5555\">False</span>|<span style=\"color:#CF5555\">False</span>|\n",
    "|<span style=\"color:#4db857\">True</span>|<span style=\"color:#CF5555\">False</span>|<span style=\"color:#CF5555\">False</span>|<span style=\"color:#4db857\">True</span>|<span style=\"color:#CF5555\">False</span>|<span style=\"color:#4db857\">True</span>|\n",
    "|<span style=\"color:#CF5555\">False</span>|<span style=\"color:#4db857\">True</span>|<span style=\"color:#CF5555\">False</span>|<span style=\"color:#4db857\">True</span>|<span style=\"color:#4db857\">True</span>|<span style=\"color:#CF5555\">False</span>|\n",
    "|<span style=\"color:#CF5555\">False</span>|<span style=\"color:#CF5555\">False</span>|<span style=\"color:#CF5555\">False</span>|<span style=\"color:#CF5555\">False</span>|<span style=\"color:#4db857\">True</span>|<span style=\"color:#4db857\">True</span>|"
   ]
  },
  {
   "cell_type": "code",
   "execution_count": null,
   "metadata": {},
   "outputs": [],
   "source": [
    "print(\"Welcome to the rollercoaster!\")\n",
    "height = int(input(\"What is your height in cm? \"))\n",
    "bill = 0\n",
    "\n",
    "if height >= 120:\n",
    "  print(\"You can ride the rollercoaster!\")\n",
    "  age = int(input(\"What is your age? \"))\n",
    "  if age < 12:\n",
    "    bill = 5\n",
    "    print(\"Child tickets are $5.\")\n",
    "  elif age <= 18:\n",
    "    bill = 7\n",
    "    print(\"Youth tickets are $7.\")\n",
    "  elif age >= 45 and age <= 55:\n",
    "    print(\"Everything is going to be ok. Have a free ride on us!\")\n",
    "  else:\n",
    "    bill = 12\n",
    "    print(\"Adult tickets are $12.\")\n",
    "  \n",
    "  wants_photo = input(\"Do you want a photo taken? Y or N. \")\n",
    "  if wants_photo == \"Y\":\n",
    "    bill += 3\n",
    "  \n",
    "  print(f\"Your final bill is ${bill}\")\n",
    "\n",
    "else:\n",
    "  print(\"Sorry, you have to grow taller before you can ride.\")\n"
   ]
  },
  {
   "cell_type": "markdown",
   "metadata": {},
   "source": [
    "***\n",
    "### Day 3.37\n",
    "#### <span style=\"color:#65CA8A\">Love Calculator</span>\n",
    "You are going to write a program that tests the compatibility between two people.\n",
    "\n",
    "To work out the love score between two people:\n",
    "\n",
    "-Take both people's names and check for the number of times the letters in the word TRUE occurs. \n",
    "\n",
    "-Then check for the number of times the letters in the word LOVE occurs.\n",
    "\n",
    "-Then combine these numbers to make a 2 digit number.\n"
   ]
  },
  {
   "cell_type": "code",
   "execution_count": null,
   "metadata": {},
   "outputs": [],
   "source": [
    "# 🚨 Don't change the code below 👇\n",
    "print(\"Welcome to the Love Calculator!\")\n",
    "name1 = input(\"What is your name? \\n\")\n",
    "name2 = input(\"What is their name? \\n\")\n",
    "# 🚨 Don't change the code above 👆\n",
    "\n",
    "#Write your code below this line 👇\n",
    "\n",
    "upper_name1 = name1.upper()\n",
    "upper_name2 = name2.upper()\n",
    "\n",
    "t1 = upper_name1.count('T')\n",
    "r1 = upper_name1.count('R')\n",
    "u1 = upper_name1.count('U')\n",
    "e1 = upper_name1.count('E')\n",
    "\n",
    "t2 = upper_name2.count('T')\n",
    "r2 = upper_name2.count('R')\n",
    "u2 = upper_name2.count('U')\n",
    "e2 = upper_name2.count('E')\n",
    "\n",
    "true1 = t1+r1+u1+e1\n",
    "true2 = t2+r2+u2+e2\n",
    "\n",
    "l1 = upper_name1.count('L')\n",
    "o1 = upper_name1.count('O')\n",
    "v1 = upper_name1.count('V')\n",
    "e1 = upper_name1.count('E')\n",
    "\n",
    "l2 = upper_name2.count('L')\n",
    "o2 = upper_name2.count('O')\n",
    "v2 = upper_name2.count('V')\n",
    "e2 = upper_name2.count('E')\n",
    "\n",
    "love1 = l1+o1+v1+e1\n",
    "love2 = l2+o2+v2+e2\n",
    "\n",
    "score = (true1+true2)*10 + love1+love2\n",
    "\n",
    "if score < 10 or score > 90:\n",
    "    print(f\"Your score is {score}, you go together like coke and mentos.\")\n",
    "elif 40 < score < 50:\n",
    "    print(f\"Your score is {score}, you are alright together.\")\n",
    "else:\n",
    "    print(f\"Your score is {score}.\")"
   ]
  },
  {
   "cell_type": "markdown",
   "metadata": {},
   "source": [
    "***\n",
    "### Day 3 *Project*: <span style=\"color:#86D4DD\">Treasure Island"
   ]
  },
  {
   "cell_type": "code",
   "execution_count": null,
   "metadata": {},
   "outputs": [],
   "source": [
    "print('''\n",
    "*******************************************************************************\n",
    "          |                   |                  |                     |\n",
    " _________|________________.=\"\"_;=.______________|_____________________|_______\n",
    "|                   |  ,-\"_,=\"\"     `\"=.|                  |\n",
    "|___________________|__\"=._o`\"-._        `\"=.______________|___________________\n",
    "          |                `\"=._o`\"=._      _`\"=._                     |\n",
    " _________|_____________________:=._o \"=._.\"_.-=\"'\"=.__________________|_______\n",
    "|                   |    __.--\" , ; `\"=._o.\" ,-\"\"\"-._ \".   |\n",
    "|___________________|_._\"  ,. .` ` `` ,  `\"-._\"-._   \". '__|___________________\n",
    "          |           |o`\"=._` , \"` `; .\". ,  \"-._\"-._; ;              |\n",
    " _________|___________| ;`-.o`\"=._; .\" ` '`.\"\\` . \"-._ /_______________|_______\n",
    "|                   | |o;    `\"-.o`\"=._``  '` \" ,__.--o;   |\n",
    "|___________________|_| ;     (#) `-.o `\"=.`_.--\"_o.-; ;___|___________________\n",
    "____/______/______/___|o;._    \"      `\".o|o_.--\"    ;o;____/______/______/____\n",
    "/______/______/______/_\"=._o--._        ; | ;        ; ;/______/______/______/_\n",
    "____/______/______/______/__\"=._o--._   ;o|o;     _._;o;____/______/______/____\n",
    "/______/______/______/______/____\"=._o._; | ;_.--\"o.--\"_/______/______/______/_\n",
    "____/______/______/______/______/_____\"=.o|o_.--\"\"___/______/______/______/____\n",
    "/______/______/______/______/______/______/______/______/______/______/_____ /\n",
    "*******************************************************************************\n",
    "''')\n",
    "print(\"Welcome to Treasure Island.\")\n",
    "print(\"Your mission is to find the treasure.\")\n",
    "\n",
    "#Write your code below this line 👇\n",
    "\n",
    "choice1 = input('You\\'re at a cross road. Where do you want to go? Type \"left\" or \"right\" \\n').lower()\n",
    "if choice1 == \"left\":\n",
    "  choice2 = input('You\\'ve come to a lake. There is an island in the middle of the lake. Type \"wait\" to wait for a boat. Type \"swim\" to swim across. \\n').lower()\n",
    "  if choice2 == \"wait\":\n",
    "    choice3 = input(\"You arrive at the island unharmed. There is a house with 3 doors. One red, one yellow and one blue. Which colour do you choose? \\n\").lower()\n",
    "    if choice3 == \"red\":\n",
    "      print(\"It's a room full of fire. Game Over.\")\n",
    "    elif choice3 == \"yellow\":\n",
    "      print(\"You found the treasure! You Win!\")\n",
    "    elif choice3 == \"blue\":\n",
    "      print(\"You enter a room of beasts. Game Over.\")\n",
    "    else:\n",
    "      print(\"You chose a door that doesn't exist. Game Over.\")\n",
    "  else:\n",
    "    print(\"You get attacked by an angry trout. Game Over.\")\n",
    "else:\n",
    "  print(\"You fell into a hole. Game Over.\")"
   ]
  }
 ],
 "metadata": {
  "kernelspec": {
   "display_name": "Python 3",
   "language": "python",
   "name": "python3"
  },
  "language_info": {
   "codemirror_mode": {
    "name": "ipython",
    "version": 3
   },
   "file_extension": ".py",
   "mimetype": "text/x-python",
   "name": "python",
   "nbconvert_exporter": "python",
   "pygments_lexer": "ipython3",
   "version": "3.11.5"
  },
  "orig_nbformat": 4
 },
 "nbformat": 4,
 "nbformat_minor": 2
}
