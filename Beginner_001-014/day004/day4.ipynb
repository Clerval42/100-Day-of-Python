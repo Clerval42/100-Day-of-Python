{
 "cells": [
  {
   "cell_type": "markdown",
   "metadata": {},
   "source": [
    "<h1 style=\"text-align: center;\">   Day 4 </h1>\n",
    "\n",
    "*Today's goals:* randomization and lists."
   ]
  },
  {
   "cell_type": "markdown",
   "metadata": {},
   "source": [
    "***\n",
    "### Day 4.41\n",
    ">#### <span style=\"color:#C66565\">Function</span>\n",
    ">> Random Module\n"
   ]
  },
  {
   "cell_type": "code",
   "execution_count": 11,
   "metadata": {},
   "outputs": [
    {
     "name": "stdout",
     "output_type": "stream",
     "text": [
      "2\n",
      "0.05711890012288445\n",
      "0.28559450061442226\n"
     ]
    }
   ],
   "source": [
    "import random\n",
    "\n",
    "#for 1 and 10 range (both inclusive)\n",
    "random_integer = random.randint(1,10)\n",
    "print(random_integer)\n",
    "\n",
    "#for 0.00000 and 0.99999 range\n",
    "random_float = random.random()\n",
    "print(random_float)\n",
    "\n",
    "#for 0.00000 and 4.99999 range\n",
    "print(random_float * 5)"
   ]
  },
  {
   "cell_type": "code",
   "execution_count": null,
   "metadata": {},
   "outputs": [],
   "source": [
    "import my_module\n",
    "\n",
    "print(my_module.pi )"
   ]
  },
  {
   "cell_type": "markdown",
   "metadata": {},
   "source": [
    "***\n",
    "### Day 4.42\n",
    "#### <span style=\"color:#65CA8A\">Heads or Tails</span>\n",
    "You are going to write a virtual coin toss program. It will randomly tell the user \"Heads\" or \"Tails\"."
   ]
  },
  {
   "cell_type": "code",
   "execution_count": null,
   "metadata": {},
   "outputs": [],
   "source": [
    "#Remember to use the random module\n",
    "#Hint: Remember to import the random module here at the top of the file. 🎲\n",
    "import random\n",
    "#Write the rest of your code below this line 👇\n",
    "\n",
    "pick = random.randint(0,1)\n",
    "if pick == 0:\n",
    "    print(\"Tails\")\n",
    "elif pick == 1:\n",
    "    print(\"Heads\")\n",
    "else:\n",
    "    print(\"error\")"
   ]
  },
  {
   "cell_type": "markdown",
   "metadata": {},
   "source": [
    "***\n",
    "### Day 4.43\n",
    ">#### <span style=\"color:#C66565\">Function</span>\n",
    ">> Lists\n"
   ]
  },
  {
   "cell_type": "code",
   "execution_count": 12,
   "metadata": {},
   "outputs": [
    {
     "name": "stdout",
     "output_type": "stream",
     "text": [
      "item1\n",
      "item7\n"
     ]
    }
   ],
   "source": [
    "list_of_anything = [\"item1\", \"item2\", \"item3\", \"item4\", \"item5\", \"item6\", \"item7\"]\n",
    "\n",
    "print(list_of_anything[0])\n",
    "print(list_of_anything[-1])"
   ]
  },
  {
   "cell_type": "code",
   "execution_count": null,
   "metadata": {},
   "outputs": [],
   "source": [
    "states_of_america = [\"Delaware\", \"Pennsylvania\", \"New Jersey\", \"Georgia\", \"Connecticut\", \"Massachusetts\", \"Maryland\", \"South Carolina\", \"New Hampshire\", \"Virginia\", \"New York\", \"North Carolina\", \"Rhode Island\", \"Vermont\", \"Kentucky\", \"Tennessee\", \"Ohio\", \"Louisiana\", \"Indiana\", \"Mississippi\", \"Illinois\", \"Alabama\", \"Maine\", \"Missouri\", \"Arkansas\", \"Michigan\", \"Florida\", \"Texas\", \"Iowa\", \"Wisconsin\", \"California\", \"Minnesota\", \"Oregon\", \"Kansas\", \"West Virginia\", \"Nevada\", \"Nebraska\", \"Colorado\", \"North Dakota\", \"South Dakota\", \"Montana\", \"Washington\", \"Idaho\", \"Wyoming\", \"Utah\", \"Oklahoma\", \"New Mexico\", \"Arizona\", \"Alaska\", \"Hawaii\"]\n",
    "\n",
    "states_of_america[1] = \"Ankara\"\n",
    "\n",
    "states_of_america.append(\"Muş\")\n",
    "\n",
    "states_of_america.extend([\"Samedistan\",\"Şirnak\"])\n",
    "\n",
    "print(len(states_of_america))\n",
    "print(states_of_america)\n",
    "\n",
    "\n",
    "dirty_dozen = [\"Strawberries\", \"Spinach\", \"Kale\", \"Nectarines\", \"Apples\", \"Grapes\", \"Peaches\", \"Cherries\", \"Pears\", \"Tomatoes\", \"Celery\", \"Potatoes\"]\n",
    "\n"
   ]
  },
  {
   "cell_type": "markdown",
   "metadata": {},
   "source": [
    "***\n",
    "### Day 4.44\n",
    "#### <span style=\"color:#65CA8A\">Banker Roulette - Who will pay the bill?</span>\n",
    "You are going to write a program that will select a random name from a list of names. The person selected will have to pay for everybody's food bill."
   ]
  },
  {
   "cell_type": "code",
   "execution_count": null,
   "metadata": {},
   "outputs": [],
   "source": [
    "# Import the random module here\n",
    "import random\n",
    "# Split string method\n",
    "names_string = input(\"Give me everybody's names, separated by a comma. \")\n",
    "names = names_string.split(\", \")\n",
    "# 🚨 Don't change the code above 👆\n",
    "\n",
    "#Write your code below this line 👇\n",
    "\n",
    "print(f\"{random.choice(names)} is going to buy the meal today!\")\n",
    "\n",
    "#len_name = len(names)\n",
    "#r_name = random.randint(0, len_name)\n",
    "#print(names[r_name]+\" is going to buy the meal today!\")"
   ]
  },
  {
   "cell_type": "markdown",
   "metadata": {},
   "source": [
    "***\n",
    "### Day 4.45\n",
    ">#### <span style=\"color:#C66565\">Function</span>\n",
    ">> Nested Lists\n"
   ]
  },
  {
   "cell_type": "code",
   "execution_count": 15,
   "metadata": {},
   "outputs": [
    {
     "name": "stdout",
     "output_type": "stream",
     "text": [
      "Apples\n"
     ]
    }
   ],
   "source": [
    "#dirty_dozen = [\"Strawberries\", \"Spinach\", \"Kale\", \"Nectarines\", \"Apples\", \"Grapes\", \"Peaches\", \"Cherries\", \"Pears\", \"Tomatoes\", \"Celery\", \"Potatoes\"]\n",
    "\n",
    "\n",
    "vegetables =[\"Spinach\", \"Kale\", \"Potatoes\", \"Tomatoes\", \"Celery\"]\n",
    "fruits = [\"Strawberries\", \"Nectarines\", \"Apples\", \"Grapes\", \"Peaches\", \"Cherries\", \"Pears\"]\n",
    "\n",
    "dirty_dozen = [vegetables, fruits]\n",
    "print(dirty_dozen[1][2])"
   ]
  },
  {
   "cell_type": "markdown",
   "metadata": {},
   "source": [
    "***\n",
    "### Day 4.46\n",
    "#### <span style=\"color:#65CA8A\">Treasure Map</span>\n",
    "You are going to write a program that will mark a spot with an X.\n",
    "\n",
    "In the starting code, you will find a variable called map.\n",
    "\n",
    "This map contains a nested list. When map is printed this is what the nested list looks like:\n",
    "\n",
    "[['⬜️', '⬜️', '⬜️'], ['⬜️', '⬜️', '⬜️'], ['⬜️', '⬜️', '⬜️']]"
   ]
  },
  {
   "cell_type": "code",
   "execution_count": null,
   "metadata": {},
   "outputs": [],
   "source": [
    "# 🚨 Don't change the code below 👇\n",
    "row1 = [\"⬜️\",\"️⬜️\",\"️⬜️\"]\n",
    "row2 = [\"⬜️\",\"⬜️\",\"️⬜️\"]\n",
    "row3 = [\"⬜️️\",\"⬜️️\",\"⬜️️\"]\n",
    "map = [row1, row2, row3]\n",
    "print(f\"{row1}\\n{row2}\\n{row3}\")\n",
    "position = input(\"Where do you want to put the treasure? \")\n",
    "# 🚨 Don't change the code above 👆\n",
    "\n",
    "#Write your code below this row 👇\n",
    "column = int(position[0]) - 1\n",
    "row = int(position[1]) - 1\n",
    "\n",
    "\n",
    "map[row][column] = \"x\"\n",
    "\n",
    "\n",
    "\n",
    "#Write your code above this row 👆\n",
    "\n",
    "# 🚨 Don't change the code below 👇\n",
    "print(f\"{row1}\\n{row2}\\n{row3}\")"
   ]
  },
  {
   "cell_type": "markdown",
   "metadata": {},
   "source": [
    "***\n",
    "### Day 4 *Project*: <span style=\"color:#86D4DD\">Rock Paper Scissors"
   ]
  },
  {
   "cell_type": "code",
   "execution_count": null,
   "metadata": {},
   "outputs": [],
   "source": [
    "rock = '''\n",
    "    _______\n",
    "---'   ____)\n",
    "      (_____)\n",
    "      (_____)\n",
    "      (____)\n",
    "---.__(___)\n",
    "'''\n",
    "\n",
    "paper = '''\n",
    "    _______\n",
    "---'   ____)____\n",
    "          ______)\n",
    "          _______)\n",
    "         _______)\n",
    "---.__________)\n",
    "'''\n",
    "\n",
    "scissors = '''\n",
    "    _______\n",
    "---'   ____)____\n",
    "          ______)\n",
    "       __________)\n",
    "      (____)\n",
    "---.__(___)\n",
    "'''\n",
    "\n",
    "#Write your code below this line 👇\n",
    "\n",
    "p_input = int(input(\"What do you choose? Type 0 for rock, 1 for paper, 2 for  scissor \"))\n",
    "if p_input == 0:\n",
    "    print(rock)\n",
    "elif p_input == 1:\n",
    "    print(paper)\n",
    "elif p_input == 2:\n",
    "    print(scissors)\n",
    "else:\n",
    "    print(\"error invalid number\")\n",
    "\n",
    "print(\"Computer choose:\")\n",
    "\n",
    "c_choose = random.randint(0,2)\n",
    "if c_choose == 0:\n",
    "    print(rock)\n",
    "elif c_choose == 1:\n",
    "    print(paper)\n",
    "elif c_choose == 2:\n",
    "    print(scissors)\n",
    "else:\n",
    "    print(\"error invalid number\")\n",
    "\n",
    "if p_input ==0 and c_choose == 2:\n",
    "    print(\"You Win!\")\n",
    "elif p_input == 2 and c_choose == 0:\n",
    "    print(\"You Lose\")\n",
    "elif 2 > p_input > c_choose > 0:\n",
    "    print(\"You Win!\")\n",
    "elif 0 < p_input < c_choose <2 :\n",
    "    print(\"You Lose\")\n",
    "elif p_input == c_choose:\n",
    "    (\"It's draw\")\n",
    "else:\n",
    "    print(\"invalid number, You Lose\")\n",
    "\n",
    "\n",
    "\"\"\" game_images = [rock, paper, scissors]\n",
    "\n",
    "user_choice = int(input(\"What do you choose? Type 0 for Rock, 1 for Paper or 2 for Scissors.\\n\"))\n",
    "if user_choice >= 3 or user_choice < 0: \n",
    "    print(\"You typed an invalid number, you lose!\") \n",
    "else:\n",
    "    print(game_images[user_choice])\n",
    "\n",
    "    computer_choice = random.randint(0, 2)\n",
    "    print(\"Computer chose:\")\n",
    "    print(game_images[computer_choice])\n",
    "\n",
    "\n",
    "    if user_choice == 0 and computer_choice == 2:\n",
    "        print(\"You win!\")\n",
    "    elif computer_choice == 0 and user_choice == 2:\n",
    "        print(\"You lose\")\n",
    "    elif computer_choice > user_choice:\n",
    "        print(\"You lose\")\n",
    "    elif user_choice > computer_choice:\n",
    "        print(\"You win!\")\n",
    "    elif computer_choice == user_choice:\n",
    "        print(\"It's a draw\")\n",
    " \"\"\""
   ]
  }
 ],
 "metadata": {
  "kernelspec": {
   "display_name": "Python 3",
   "language": "python",
   "name": "python3"
  },
  "language_info": {
   "codemirror_mode": {
    "name": "ipython",
    "version": 3
   },
   "file_extension": ".py",
   "mimetype": "text/x-python",
   "name": "python",
   "nbconvert_exporter": "python",
   "pygments_lexer": "ipython3",
   "version": "3.11.5"
  },
  "orig_nbformat": 4
 },
 "nbformat": 4,
 "nbformat_minor": 2
}
