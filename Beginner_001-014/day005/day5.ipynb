{
 "cells": [
  {
   "cell_type": "markdown",
   "metadata": {},
   "source": [
    "<h1 style=\"text-align: center;\">   Day 5 </h1>\n",
    "\n",
    "*Today's goals:* "
   ]
  },
  {
   "cell_type": "markdown",
   "metadata": {},
   "source": [
    "***\n",
    "### Day 5.50\n",
    ">#### <span style=\"color:#C66565\">Function</span>\n",
    ">> `for` loop with Python lists"
   ]
  },
  {
   "cell_type": "code",
   "execution_count": null,
   "metadata": {},
   "outputs": [],
   "source": [
    "#for item in list_of_items:\n",
    "#    do something to each item"
   ]
  },
  {
   "cell_type": "code",
   "execution_count": null,
   "metadata": {},
   "outputs": [],
   "source": [
    "fruits = [\"Apple\", \"Peach\", \"Cherry\"]\n",
    "\n",
    "for fruit in fruits:\n",
    "    print(fruit)\n",
    "    print(fruit + \" Pie\")\n"
   ]
  },
  {
   "cell_type": "markdown",
   "metadata": {},
   "source": [
    "***\n",
    "### Day 5.51\n",
    "#### <span style=\"color:#65CA8A\">Average Height</span>\n",
    "You are going to write a program that calculates the average student height from a List of heights.\n",
    "\n",
    "Note: Don't use `len()` and `sum()`"
   ]
  },
  {
   "cell_type": "code",
   "execution_count": null,
   "metadata": {},
   "outputs": [],
   "source": [
    "# 🚨 Don't change the code below 👇\n",
    "student_heights = input(\"Input a list of student heights \").split()\n",
    "for n in range(0, len(student_heights)):\n",
    "  student_heights[n] = int(student_heights[n])\n",
    "# 🚨 Don't change the code above 👆\n",
    "#\n",
    "\n",
    "#Write your code below this row 👇\n",
    "sum = 0\n",
    "how_many_person = 0\n",
    "for student in student_heights:\n",
    "    sum += student\n",
    "    how_many_person += 1\n",
    "#print(sum)\n",
    "#print(i)\n",
    "average = round(sum / how_many_person)\n",
    "print(average)\n",
    "\n",
    "\n"
   ]
  },
  {
   "cell_type": "markdown",
   "metadata": {},
   "source": [
    "***\n",
    "### Day 5.53\n",
    "#### <span style=\"color:#65CA8A\">High Score</span>\n",
    "You are going to write a program that calculates the highest score from a List of scores."
   ]
  },
  {
   "cell_type": "code",
   "execution_count": null,
   "metadata": {},
   "outputs": [],
   "source": [
    "# 🚨 Don't change the code below 👇\n",
    "student_scores = input(\"Input a list of student scores \").split()\n",
    "for n in range(0, len(student_scores)):\n",
    "  student_scores[n] = int(student_scores[n])\n",
    "print(student_scores)\n",
    "# 🚨 Don't change the code above 👆\n",
    "\n",
    "#Write your code below this row 👇\n",
    "max_score = student_scores[0]\n",
    "for student in student_scores:\n",
    "  if student > max_score:\n",
    "    max_score = student\n",
    "print(f\"The highest score in the class is: {max_score}\")"
   ]
  },
  {
   "cell_type": "markdown",
   "metadata": {},
   "source": [
    "***\n",
    "### Day 5.53\n",
    ">#### <span style=\"color:#C66565\">Function</span>\n",
    ">> `for` loop with independent lists (`range()`)"
   ]
  },
  {
   "cell_type": "code",
   "execution_count": null,
   "metadata": {},
   "outputs": [],
   "source": [
    "# for number in range(a,b):\n",
    "#   print(number)"
   ]
  },
  {
   "cell_type": "code",
   "execution_count": 9,
   "metadata": {},
   "outputs": [
    {
     "name": "stdout",
     "output_type": "stream",
     "text": [
      "1\n",
      "2\n",
      "3\n",
      "4\n",
      "5\n",
      "6\n",
      "7\n",
      "8\n",
      "9\n",
      "10\n",
      "2\n",
      "4\n",
      "6\n",
      "8\n",
      "10\n"
     ]
    }
   ],
   "source": [
    "for number in range(1, 11):\n",
    "    print(number)\n",
    "\n",
    "\n",
    "for even_number in range(2, 11, 2):\n",
    "    print(even_number)"
   ]
  },
  {
   "cell_type": "markdown",
   "metadata": {},
   "source": [
    "***\n",
    "### Day 5.55\n",
    "#### <span style=\"color:#65CA8A\">Adding Even Numbers</span>\n",
    "You are going to write a program that calculates the sum of all the even numbers from 1 to 100. Thus, the first even number would be 2 and the last one is 100:"
   ]
  },
  {
   "cell_type": "code",
   "execution_count": 6,
   "metadata": {},
   "outputs": [
    {
     "name": "stdout",
     "output_type": "stream",
     "text": [
      "2550\n"
     ]
    }
   ],
   "source": [
    "sum = 0\n",
    "for number in range(1,101):\n",
    "    if number % 2 == 0:\n",
    "        sum += number\n",
    "print(sum)"
   ]
  },
  {
   "cell_type": "markdown",
   "metadata": {},
   "source": [
    "***\n",
    "### Day 5.56\n",
    "#### <span style=\"color:#65CA8A\">The FizzBuzz Job Interview Question</span>\n",
    "You are going to write a program that automatically prints the solution to the FizzBuzz game.\n",
    "\n",
    "+ Your program should print each number from 1 to 100 in turn.\n",
    "\n",
    "+ When the number is divisible by 3 then instead of printing the number it should print \"Fizz\".\n",
    "\n",
    "+ When the number is divisible by 5, then instead of printing the number it should print \"Buzz\".`\n",
    "\n",
    "+ And if the number is divisible by both 3 and 5 e.g. 15 then instead of the number it should print \"FizzBuzz\""
   ]
  },
  {
   "cell_type": "code",
   "execution_count": null,
   "metadata": {},
   "outputs": [],
   "source": [
    "for number in range(1,101):\n",
    "    if number % 5 == 0 and number % 3 == 0:\n",
    "        print(\"FizzBuzz\")\n",
    "    elif number % 5 == 0:\n",
    "        print(\"Buzz\")\n",
    "    elif number % 3 == 0:\n",
    "        print(\"Fizz\")\n",
    "    else:\n",
    "        print(number)"
   ]
  },
  {
   "cell_type": "markdown",
   "metadata": {},
   "source": [
    "***\n",
    "### Day 5 *Project*: <span style=\"color:#86D4DD\">Password Generator"
   ]
  },
  {
   "cell_type": "code",
   "execution_count": 25,
   "metadata": {},
   "outputs": [
    {
     "name": "stdout",
     "output_type": "stream",
     "text": [
      "Welcome to the PyPassword Generator!\n"
     ]
    },
    {
     "name": "stdout",
     "output_type": "stream",
     "text": [
      "ydWW46##\n"
     ]
    }
   ],
   "source": [
    "#Password Generator Project\n",
    "import random\n",
    "letters = ['a', 'b', 'c', 'd', 'e', 'f', 'g', 'h', 'i', 'j', 'k', 'l', 'm', 'n', 'o', 'p', 'q', 'r', 's', 't', 'u', 'v', 'w', 'x', 'y', 'z', 'A', 'B', 'C', 'D', 'E', 'F', 'G', 'H', 'I', 'J', 'K', 'L', 'M', 'N', 'O', 'P', 'Q', 'R', 'S', 'T', 'U', 'V', 'W', 'X', 'Y', 'Z']\n",
    "numbers = ['0', '1', '2', '3', '4', '5', '6', '7', '8', '9']\n",
    "symbols = ['!', '#', '$', '%', '&', '(', ')', '*', '+']\n",
    "\n",
    "print(\"Welcome to the PyPassword Generator!\")\n",
    "nr_letters= int(input(\"How many letters would you like in your password?\\n\")) \n",
    "nr_numbers = int(input(f\"How many numbers would you like?\\n\"))\n",
    "nr_symbols = int(input(f\"How many symbols would you like?\\n\"))\n",
    "\n",
    "\n",
    "#Eazy Level - Order not randomised:\n",
    "#e.g. 4 letter, 2 symbol, 2 number = JduE&!91\n",
    "list_of_password = []\n",
    "\n",
    "for letter in range(0, nr_letters):\n",
    "    letter = letters[random.randint(0, len(letters)-1)]\n",
    "    list_of_password.append(letter)\n",
    "\n",
    "for number in range(0, nr_numbers):\n",
    "    number = numbers[random.randint(0, len(numbers)-1)]\n",
    "    list_of_password.append(number)\n",
    "\n",
    "for symbol in range(0, nr_symbols):\n",
    "    symbol = symbols[random.randint(0, len(symbols)-1)]\n",
    "    list_of_password.append(symbol)\n",
    "\n",
    "password = \"\".join(list_of_password)\n",
    "print(password)"
   ]
  },
  {
   "cell_type": "code",
   "execution_count": 28,
   "metadata": {},
   "outputs": [
    {
     "name": "stdout",
     "output_type": "stream",
     "text": [
      "Welcome to the PyPassword Generator!\n",
      "!OEk74y$\n"
     ]
    }
   ],
   "source": [
    "#Password Generator Project\n",
    "import random\n",
    "letters = ['a', 'b', 'c', 'd', 'e', 'f', 'g', 'h', 'i', 'j', 'k', 'l', 'm', 'n', 'o', 'p', 'q', 'r', 's', 't', 'u', 'v', 'w', 'x', 'y', 'z', 'A', 'B', 'C', 'D', 'E', 'F', 'G', 'H', 'I', 'J', 'K', 'L', 'M', 'N', 'O', 'P', 'Q', 'R', 'S', 'T', 'U', 'V', 'W', 'X', 'Y', 'Z']\n",
    "numbers = ['0', '1', '2', '3', '4', '5', '6', '7', '8', '9']\n",
    "symbols = ['!', '#', '$', '%', '&', '(', ')', '*', '+']\n",
    "\n",
    "print(\"Welcome to the PyPassword Generator!\")\n",
    "nr_letters= int(input(\"How many letters would you like in your password?\\n\")) \n",
    "nr_numbers = int(input(f\"How many numbers would you like?\\n\"))\n",
    "nr_symbols = int(input(f\"How many symbols would you like?\\n\"))\n",
    "\n",
    "\n",
    "#Hard Level - Order of characters randomised:\n",
    "#e.g. 4 letter, 2 symbol, 2 number = g^2jk8&P\n",
    "list_of_password = []\n",
    "\n",
    "for letter in range(0, nr_letters):\n",
    "    letter = letters[random.randint(0, len(letters)-1)]\n",
    "    list_of_password.insert(random.randint(0, len(list_of_password)), letter)\n",
    "\n",
    "for number in range(0, nr_numbers):\n",
    "    number = numbers[random.randint(0, len(numbers)-1)]\n",
    "    list_of_password.insert(random.randint(0, len(list_of_password)), number)\n",
    "\n",
    "for symbol in range(0, nr_symbols):\n",
    "    symbol = symbols[random.randint(0, len(symbols)-1)]\n",
    "    list_of_password.insert(random.randint(0, len(list_of_password)), symbol)\n",
    "\n",
    "password = \"\".join(list_of_password)\n",
    "print(password)"
   ]
  },
  {
   "cell_type": "code",
   "execution_count": 1,
   "metadata": {},
   "outputs": [
    {
     "name": "stdout",
     "output_type": "stream",
     "text": [
      "Welcome to the PyPassword Generator!\n",
      "dg&)Y35k\n"
     ]
    }
   ],
   "source": [
    "#Password Generator Project\n",
    "import random\n",
    "letters = ['a', 'b', 'c', 'd', 'e', 'f', 'g', 'h', 'i', 'j', 'k', 'l', 'm', 'n', 'o', 'p', 'q', 'r', 's', 't', 'u', 'v', 'w', 'x', 'y', 'z', 'A', 'B', 'C', 'D', 'E', 'F', 'G', 'H', 'I', 'J', 'K', 'L', 'M', 'N', 'O', 'P', 'Q', 'R', 'S', 'T', 'U', 'V', 'W', 'X', 'Y', 'Z']\n",
    "numbers = ['0', '1', '2', '3', '4', '5', '6', '7', '8', '9']\n",
    "symbols = ['!', '#', '$', '%', '&', '(', ')', '*', '+']\n",
    "\n",
    "print(\"Welcome to the PyPassword Generator!\")\n",
    "nr_letters= int(input(\"How many letters would you like in your password?\\n\")) \n",
    "nr_numbers = int(input(f\"How many numbers would you like?\\n\"))\n",
    "nr_symbols = int(input(f\"How many symbols would you like?\\n\"))\n",
    "\n",
    "\n",
    "#Hard Level - Order of characters randomised:\n",
    "#e.g. 4 letter, 2 symbol, 2 number = g^2jk8&P\n",
    "list_of_password = []\n",
    "\n",
    "for letter in range(0, nr_letters):\n",
    "    letter = letters[random.randint(0, len(letters)-1)]\n",
    "    list_of_password.insert(random.randint(0, len(list_of_password)), letter)\n",
    "\n",
    "for number in range(0, nr_numbers):\n",
    "    number = numbers[random.randint(0, len(numbers)-1)]\n",
    "    list_of_password.insert(random.randint(0, len(list_of_password)), number)\n",
    "\n",
    "for symbol in range(0, nr_symbols):\n",
    "    symbol = symbols[random.randint(0, len(symbols)-1)]\n",
    "    list_of_password.insert(random.randint(0, len(list_of_password)), symbol)\n",
    "\n",
    "password = \"\".join(list_of_password)\n",
    "print(password)"
   ]
  }
 ],
 "metadata": {
  "kernelspec": {
   "display_name": "Python 3",
   "language": "python",
   "name": "python3"
  },
  "language_info": {
   "codemirror_mode": {
    "name": "ipython",
    "version": 3
   },
   "file_extension": ".py",
   "mimetype": "text/x-python",
   "name": "python",
   "nbconvert_exporter": "python",
   "pygments_lexer": "ipython3",
   "version": "3.11.5"
  },
  "orig_nbformat": 4
 },
 "nbformat": 4,
 "nbformat_minor": 2
}
