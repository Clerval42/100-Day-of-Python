{
 "cells": [
  {
   "cell_type": "markdown",
   "metadata": {},
   "source": [
    "<h1 style=\"text-align: center;\">   Day 6 </h1>\n",
    "\n",
    "_Today's goals:_ code blocks and indentation as well as functions and also a different flavor from the for loops that while loops.\n"
   ]
  },
  {
   "cell_type": "markdown",
   "metadata": {},
   "source": [
    "---\n",
    "\n",
    "### Day 6.59\n",
    "\n",
    "> #### <span style=\"color:#C66565\">Function</span>\n",
    ">\n",
    "> > Functions\n",
    "\n",
    "https://docs.python.org/3/library/functions.html\n"
   ]
  },
  {
   "cell_type": "markdown",
   "metadata": {},
   "source": [
    "> > `def` define functions\n"
   ]
  },
  {
   "cell_type": "code",
   "execution_count": 7,
   "metadata": {},
   "outputs": [
    {
     "name": "stdout",
     "output_type": "stream",
     "text": [
      "Hello World\n",
      "Hello World\n",
      "Hello World\n"
     ]
    }
   ],
   "source": [
    "# defining function\n",
    "def my_function():\n",
    "    print(\"Hello World\")\n",
    "\n",
    "\n",
    "# calling function\n",
    "my_function()\n",
    "\n",
    "for i in range(2):\n",
    "    my_function()"
   ]
  },
  {
   "cell_type": "markdown",
   "metadata": {},
   "source": [
    "---\n",
    "\n",
    "### Day 6.62\n",
    "\n",
    "> #### <span style=\"color:#C66565\">Function</span>\n",
    ">\n",
    "> > `while`\n"
   ]
  },
  {
   "cell_type": "markdown",
   "metadata": {},
   "source": [
    "|                                                               For                                                               |                           While                           |\n",
    "| :-----------------------------------------------------------------------------------------------------------------------------: | :-------------------------------------------------------: |\n",
    "| `for item in list of items:` <br />`do something to each item` <br /> <br /> `for numbers in range(a, b):`<br />`print(number)` | `while something_is_true:`<br />`do something repeatedly` |\n"
   ]
  },
  {
   "cell_type": "markdown",
   "metadata": {},
   "source": [
    "> > `while not` is used for doing something repeatedly while condition is _FALSE_\n"
   ]
  },
  {
   "cell_type": "code",
   "execution_count": null,
   "metadata": {},
   "outputs": [],
   "source": [
    "a = 6\n",
    "for i in range(10):\n",
    "    while a > 6:\n",
    "        print(\"above\")\n",
    "        a -= 1\n",
    "    while not a > 6:\n",
    "        print(\"down\")\n",
    "        a += 1"
   ]
  },
  {
   "cell_type": "code",
   "execution_count": null,
   "metadata": {},
   "outputs": [],
   "source": []
  }
 ],
 "metadata": {
  "kernelspec": {
   "display_name": "Python 3",
   "language": "python",
   "name": "python3"
  },
  "language_info": {
   "name": "python",
   "version": "3.11.5"
  },
  "orig_nbformat": 4
 },
 "nbformat": 4,
 "nbformat_minor": 2
}
